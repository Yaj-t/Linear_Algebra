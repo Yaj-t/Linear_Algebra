{
 "cells": [
  {
   "cell_type": "markdown",
   "id": "67c69b26-d2c4-4794-9a0f-6349c29ae4e2",
   "metadata": {},
   "source": [
    "# Assignment\n",
    "---\n",
    "Instructions:<br>\n",
    "1. Create a folder in your github account titled Intro_Vectors.<br>\n",
    "2. Use Jupyterhub notebook to answer the problems.<br>\n",
    "3. Rename Jupyter notebook to Intro_Vectors.ipynb.<br>\n",
    "4. Show both manual and pythonic solutions.<br>\n",
    "5. For manual solutions write it in Latex format.<br>"
   ]
  },
  {
   "cell_type": "markdown",
   "id": "1d99f014",
   "metadata": {},
   "source": [
    "### 1. Let $\\textbf{u} = (1, -2, 4)$ and $\\textbf{v} = (3,5,1)$ $\\textbf{w} = (2,1,-3)$ find:<br>"
   ]
  },
  {
   "cell_type": "markdown",
   "id": "edbea518",
   "metadata": {},
   "source": [
    "#### a. $3\\textbf{u}-2\\textbf{v}$\n",
    "\n",
    "    "
   ]
  },
  {
   "cell_type": "markdown",
   "id": "fed03319",
   "metadata": {
    "slideshow": {
     "slide_type": "fragment"
    }
   },
   "source": [
    "$ = 3(1,-2,4) - 2(3,5,1)$\n",
    "\n",
    "$ = (3,-6,12) - (6,10,2)$\n",
    "\n",
    "$ = (-3,-16,10)$\n"
   ]
  },
  {
   "cell_type": "markdown",
   "id": "2370f047",
   "metadata": {},
   "source": [
    "#### b. $5\\textbf{u}+3\\textbf{v}-4\\textbf{w}$<br>"
   ]
  },
  {
   "cell_type": "markdown",
   "id": "8c87952c",
   "metadata": {},
   "source": [
    "$=5(1,-2,4) + 3(3,5,1) - 4(2,1,-3)$\n",
    "\n",
    "$= (5,-10,20) + (9,15,3) - (8,4,-12)$\n",
    "\n",
    "$= (6,1,35)$\n",
    "\n"
   ]
  },
  {
   "cell_type": "markdown",
   "id": "2550a032",
   "metadata": {},
   "source": [
    "#### c. $\\textbf{u} \\cdotp \\textbf{v}$,$\\textbf{v} \\cdotp \\textbf{w}$, $\\textbf{u} \\cdotp \\textbf{w}$<br>"
   ]
  },
  {
   "cell_type": "markdown",
   "id": "e45be809",
   "metadata": {},
   "source": [
    "$\\textbf{u} \\cdotp \\textbf{v}= 1(3) - 2(5) + 4(1) = -3$\n",
    "\n",
    "$\\textbf{v} \\cdotp \\textbf{w}= 3(2) + 5(1) + 1(-3) = 8$\n",
    "\n",
    "$\\textbf{u} \\cdotp \\textbf{w}= 1(2) - 2(1) + 4(-3) = -12$"
   ]
  },
  {
   "cell_type": "markdown",
   "id": "2d5bbe54",
   "metadata": {},
   "source": [
    "#### d. ||$\\textbf{u}||, ||\\textbf{v}||, ||\\textbf{w}$||<br>"
   ]
  },
  {
   "cell_type": "markdown",
   "id": "455ea8dd",
   "metadata": {},
   "source": [
    "$||\\textbf{u}||=\\sqrt{1^2 + (-2)^2 + 4^2} = \\sqrt{21}$\n",
    "\n",
    "$||\\textbf{v}||=\\sqrt{3^2 + 5^2 + 1^2} = \\sqrt{35}$\n",
    "\n",
    "$||\\textbf{w}||=\\sqrt{2^2 + 1^2 + (-3)^2} = \\sqrt{14}$"
   ]
  },
  {
   "cell_type": "markdown",
   "id": "6c4a1468",
   "metadata": {},
   "source": [
    "#### e. If $\\theta$ is the angle between $\\textbf{u}$  and   $\\textbf{v}$, find $\\cos{\\theta}$.<br>"
   ]
  },
  {
   "cell_type": "markdown",
   "id": "f7a56f1f",
   "metadata": {},
   "source": [
    "$cos\\theta = \\frac{u \\cdot v}{||u||||v||}$\n",
    "\n",
    "$= \\frac{1(3) - 2(5) + 4(1)}{\\sqrt{1^2 + (-2)^2 + 4^2}\\sqrt{3^2 + 5^2 + 1^2}}$\n",
    "\n",
    "$= \\frac{-3}{\\sqrt{21}\\sqrt{35}}$\n"
   ]
  },
  {
   "cell_type": "markdown",
   "id": "9a81c31c",
   "metadata": {},
   "source": [
    "#### f. If $\\alpha$ is the angle between $\\textbf{v}$  and   $\\textbf{w}$, find $\\cos{\\alpha}$.<br>"
   ]
  },
  {
   "cell_type": "markdown",
   "id": "58c9826b",
   "metadata": {},
   "source": [
    "$cos\\alpha = \\frac{v \\cdot w}{||v||||w||}$\n",
    "\n",
    "$= \\frac{3(2) + 5(1) + 1(-3)}{\\sqrt{1^2 + (-2)^2 + 4^2}\\sqrt{3^2 + 5^2 + 1^2}}$\n",
    "\n",
    "$= \\frac{8}{\\sqrt{35}\\sqrt{14}}$"
   ]
  },
  {
   "cell_type": "markdown",
   "id": "0572a085",
   "metadata": {},
   "source": [
    "#### g. If $\\beta$ is the angle between $\\textbf{u}$  and   $\\textbf{w}$, find $\\cos{\\beta}$.<br>"
   ]
  },
  {
   "cell_type": "markdown",
   "id": "fa68f917",
   "metadata": {},
   "source": [
    "$cos\\beta = \\frac{u \\cdot w}{||u||||w||}$\n",
    "    \n",
    "$= \\frac{1(2) - 2(1) + 4(-3)}{\\sqrt{1^2 + (-2)^2 + 4^2}\\sqrt{3^2 + 5^2 + 1^2}}$\n",
    "\n",
    "$= \\frac{-12}{\\sqrt{21}\\sqrt{14}}$"
   ]
  },
  {
   "cell_type": "markdown",
   "id": "03c4112b",
   "metadata": {},
   "source": [
    "#### h. Find $d(\\textbf{u},\\textbf{v})$.<br>"
   ]
  },
  {
   "cell_type": "markdown",
   "id": "26396758",
   "metadata": {},
   "source": [
    "$= ||\\textbf{u},\\textbf{v}||$\n",
    "\n",
    "$ = \\sqrt{(1-3)^2 + (-2-5)^2 + (4-1)^2}$\n",
    "\n",
    "$ = \\sqrt{4 + 49 + 9}$ = **$\\sqrt{62}$"
   ]
  },
  {
   "cell_type": "markdown",
   "id": "339e675f",
   "metadata": {},
   "source": [
    "#### i. Find $d(\\textbf{w},\\textbf{v})$.<br>"
   ]
  },
  {
   "cell_type": "markdown",
   "id": "23a6b0fe",
   "metadata": {},
   "source": [
    "$ = \\sqrt{(2-3)^2 + (1-5)^2 + (-3-1)^2}$\n",
    "\n",
    "$ = \\sqrt{1 + 16 + 16}$ \n",
    "\n",
    "$ = \\sqrt{33}$"
   ]
  },
  {
   "cell_type": "markdown",
   "id": "d0503649",
   "metadata": {},
   "source": [
    "#### j. Find $d(\\textbf{u},\\textbf{w})$. <br>"
   ]
  },
  {
   "cell_type": "markdown",
   "id": "d573681e",
   "metadata": {},
   "source": [
    "$=\\sqrt{(1-2)^2 + (-2-1)^2 + (4-(-3))^2}$\n",
    "\n",
    "$= \\sqrt{1 + 9 + 49}$\n",
    "\n",
    "$ = \\sqrt{59}$"
   ]
  },
  {
   "cell_type": "markdown",
   "id": "40e5556c",
   "metadata": {},
   "source": [
    "#### k. Find $proj(\\textbf{u},\\textbf{v})$.<br>"
   ]
  },
  {
   "cell_type": "markdown",
   "id": "02770d4a",
   "metadata": {},
   "source": [
    "$= \\frac{\\textbf{u} \\cdot \\textbf{v}}{||\\textbf{v}||^2}\\textbf{v}$\n",
    "$= \\frac{-3}{(\\sqrt{35})^2}(3,5,1)$ \n",
    "$= (\\frac{-9}{35}), \\frac{-15}{(35)}, \\frac{-3}{35}$"
   ]
  },
  {
   "cell_type": "markdown",
   "id": "a64b6040",
   "metadata": {},
   "source": [
    "#### l. Find $proj(\\textbf{w},\\textbf{v})$.<br>"
   ]
  },
  {
   "cell_type": "markdown",
   "id": "4a9184fd",
   "metadata": {},
   "source": [
    "$= \\frac{\\textbf{w} \\cdot \\textbf{v}}{||\\textbf{v}||^2}\\textbf{v}$\n",
    "\n",
    "$= \\frac{8}{(\\sqrt{35})^2}(3,5,1)$\n",
    "\n",
    "$ = (\\frac{24}{35}, \\frac{40}{35}, \\frac{8}{35})$"
   ]
  },
  {
   "cell_type": "markdown",
   "id": "e62097b5",
   "metadata": {},
   "source": [
    "#### m. Find $proj(\\textbf{u},\\textbf{w})$. <br>  "
   ]
  },
  {
   "cell_type": "markdown",
   "id": "579d813a",
   "metadata": {},
   "source": [
    "$ = \\frac{\\textbf{u} \\cdot \\textbf{w}}{||\\textbf{w}||^2}\\textbf{w}$\n",
    "\n",
    "$ = \\frac{-12}{(\\sqrt{14})^2}(2,1,-3)$\n",
    "\n",
    "$ = (\\frac{-24}{14}, \\frac{-12}{14}, \\frac{36}{14})$"
   ]
  },
  {
   "cell_type": "markdown",
   "id": "54b8d3f3",
   "metadata": {},
   "source": [
    "### 2. Repeat problem 1 with the following column vectors:\n",
    "\n",
    "\\begin{align}\n",
    "    \\textbf{u} &= \\begin{bmatrix}\n",
    "           1 \\\\\n",
    "           3 \\\\\n",
    "           -4\n",
    "         \\end{bmatrix}, \\textbf{v} = \\begin{bmatrix}\n",
    "           2 \\\\\n",
    "           1 \\\\\n",
    "           5\n",
    "         \\end{bmatrix}, \\textbf{w} = \\begin{bmatrix}\n",
    "           3 \\\\\n",
    "           -2 \\\\\n",
    "           6\n",
    "         \\end{bmatrix}\n",
    "  \\end{align}\n"
   ]
  },
  {
   "cell_type": "markdown",
   "id": "82ca0df0",
   "metadata": {},
   "source": [
    "#### a. $3\\textbf{u}-2\\textbf{v}$\n",
    "\n",
    "    "
   ]
  },
  {
   "cell_type": "markdown",
   "id": "91a59b75",
   "metadata": {},
   "source": [
    "\\begin{align}\n",
    "    3 \\begin{bmatrix}\n",
    "          1 \\\\\n",
    "          3 \\\\\n",
    "          -4\n",
    "         \\end{bmatrix}\n",
    "  -\n",
    "    2 \\begin{bmatrix}\n",
    "           2 \\\\\n",
    "           1 \\\\\n",
    "           5\n",
    "         \\end{bmatrix}\n",
    "    = \\begin{bmatrix}\n",
    "           -1 \\\\\n",
    "           7 \\\\\n",
    "           -22\n",
    "         \\end{bmatrix}\n",
    "  \\end{align}\n"
   ]
  },
  {
   "cell_type": "markdown",
   "id": "0f66a4d1",
   "metadata": {},
   "source": [
    "#### b. $5\\textbf{u}+3\\textbf{v}-4\\textbf{w}$<br>"
   ]
  },
  {
   "cell_type": "markdown",
   "id": "7b9a2d52",
   "metadata": {},
   "source": [
    "$=5(1,-2,4) + 3(3,5,1) - 4(2,1,-3)$\n",
    "\n",
    "$= (5,-10,20) + (9,15,3) - (8,4,-12)$\n",
    "\n",
    "$= (6,1,35)$\n",
    "\n"
   ]
  },
  {
   "cell_type": "markdown",
   "id": "f01d1b7a",
   "metadata": {},
   "source": [
    "#### c. $\\textbf{u} \\cdotp \\textbf{v}$,$\\textbf{v} \\cdotp \\textbf{w}$, $\\textbf{u} \\cdotp \\textbf{w}$<br>"
   ]
  },
  {
   "cell_type": "markdown",
   "id": "e4f0e0c4",
   "metadata": {},
   "source": [
    "$\\textbf{u} \\cdotp \\textbf{v}= 1(3) - 2(5) + 4(1) = -3$\n",
    "\n",
    "$\\textbf{v} \\cdotp \\textbf{w}= 3(2) + 5(1) + 1(-3) = 8$\n",
    "\n",
    "$\\textbf{u} \\cdotp \\textbf{w}= 1(2) - 2(1) + 4(-3) = -12$"
   ]
  },
  {
   "cell_type": "markdown",
   "id": "2714079f",
   "metadata": {},
   "source": [
    "#### d. ||$\\textbf{u}||, ||\\textbf{v}||, ||\\textbf{w}$||<br>"
   ]
  },
  {
   "cell_type": "markdown",
   "id": "449d9ebb",
   "metadata": {},
   "source": [
    "$||\\textbf{u}||=\\sqrt{1^2 + (-2)^2 + 4^2} = \\sqrt{21}$\n",
    "\n",
    "$||\\textbf{v}||=\\sqrt{3^2 + 5^2 + 1^2} = \\sqrt{35}$\n",
    "\n",
    "$||\\textbf{w}||=\\sqrt{2^2 + 1^2 + (-3)^2} = \\sqrt{14}$"
   ]
  },
  {
   "cell_type": "markdown",
   "id": "2066e8e2",
   "metadata": {},
   "source": [
    "#### e. If $\\theta$ is the angle between $\\textbf{u}$  and   $\\textbf{v}$, find $\\cos{\\theta}$.<br>"
   ]
  },
  {
   "cell_type": "markdown",
   "id": "8bd2ae0a",
   "metadata": {},
   "source": [
    "$cos\\theta = \\frac{u \\cdot v}{||u||||v||}$\n",
    "\n",
    "$= \\frac{1(3) - 2(5) + 4(1)}{\\sqrt{1^2 + (-2)^2 + 4^2}\\sqrt{3^2 + 5^2 + 1^2}}$\n",
    "\n",
    "$= \\frac{-3}{\\sqrt{21}\\sqrt{35}}$\n"
   ]
  },
  {
   "cell_type": "markdown",
   "id": "8068c7a3",
   "metadata": {},
   "source": [
    "#### f. If $\\alpha$ is the angle between $\\textbf{v}$  and   $\\textbf{w}$, find $\\cos{\\alpha}$.<br>"
   ]
  },
  {
   "cell_type": "markdown",
   "id": "d808ab05",
   "metadata": {},
   "source": [
    "$cos\\alpha = \\frac{v \\cdot w}{||v||||w||}$\n",
    "\n",
    "$= \\frac{3(2) + 5(1) + 1(-3)}{\\sqrt{1^2 + (-2)^2 + 4^2}\\sqrt{3^2 + 5^2 + 1^2}}$\n",
    "\n",
    "$= \\frac{8}{\\sqrt{35}\\sqrt{14}}$"
   ]
  },
  {
   "cell_type": "markdown",
   "id": "f1dc1948",
   "metadata": {},
   "source": [
    "#### g. If $\\beta$ is the angle between $\\textbf{u}$  and   $\\textbf{w}$, find $\\cos{\\beta}$.<br>"
   ]
  },
  {
   "cell_type": "markdown",
   "id": "408bad58",
   "metadata": {},
   "source": [
    "$cos\\beta = \\frac{u \\cdot w}{||u||||w||}$\n",
    "    \n",
    "$= \\frac{1(2) - 2(1) + 4(-3)}{\\sqrt{1^2 + (-2)^2 + 4^2}\\sqrt{3^2 + 5^2 + 1^2}}$\n",
    "\n",
    "$= \\frac{-12}{\\sqrt{21}\\sqrt{14}}$"
   ]
  },
  {
   "cell_type": "markdown",
   "id": "0f1fadf8",
   "metadata": {},
   "source": [
    "#### h. Find $d(\\textbf{u},\\textbf{v})$.<br>"
   ]
  },
  {
   "cell_type": "markdown",
   "id": "b580f67b",
   "metadata": {},
   "source": [
    "$= ||\\textbf{u},\\textbf{v}||$\n",
    "\n",
    "$ = \\sqrt{(1-3)^2 + (-2-5)^2 + (4-1)^2}$\n",
    "\n",
    "$ = \\sqrt{4 + 49 + 9}$ = **$\\sqrt{62}$"
   ]
  },
  {
   "cell_type": "markdown",
   "id": "eae8362f",
   "metadata": {},
   "source": [
    "#### i. Find $d(\\textbf{w},\\textbf{v})$.<br>"
   ]
  },
  {
   "cell_type": "markdown",
   "id": "dc7470e6",
   "metadata": {},
   "source": [
    "$ = \\sqrt{(2-3)^2 + (1-5)^2 + (-3-1)^2}$\n",
    "\n",
    "$ = \\sqrt{1 + 16 + 16}$ \n",
    "\n",
    "$ = \\sqrt{33}$"
   ]
  },
  {
   "cell_type": "markdown",
   "id": "f048e35d",
   "metadata": {},
   "source": [
    "#### j. Find $d(\\textbf{u},\\textbf{w})$. <br>"
   ]
  },
  {
   "cell_type": "markdown",
   "id": "684408fb",
   "metadata": {},
   "source": [
    "$=\\sqrt{(1-2)^2 + (-2-1)^2 + (4-(-3))^2}$\n",
    "\n",
    "$= \\sqrt{1 + 9 + 49}$\n",
    "\n",
    "$ = \\sqrt{59}$"
   ]
  },
  {
   "cell_type": "markdown",
   "id": "652af95e",
   "metadata": {},
   "source": [
    "#### k. Find $proj(\\textbf{u},\\textbf{v})$.<br>"
   ]
  },
  {
   "cell_type": "markdown",
   "id": "fb4897eb",
   "metadata": {},
   "source": [
    "$= \\frac{\\textbf{u} \\cdot \\textbf{v}}{||\\textbf{v}||^2}\\textbf{v}$\n",
    "$= \\frac{-3}{(\\sqrt{35})^2}(3,5,1)$ \n",
    "$= (\\frac{-9}{35}), \\frac{-15}{(35)}, \\frac{-3}{35}$"
   ]
  },
  {
   "cell_type": "markdown",
   "id": "0d123682",
   "metadata": {},
   "source": [
    "#### l. Find $proj(\\textbf{w},\\textbf{v})$.<br>"
   ]
  },
  {
   "cell_type": "markdown",
   "id": "3562d4f4",
   "metadata": {},
   "source": [
    "$= \\frac{\\textbf{w} \\cdot \\textbf{v}}{||\\textbf{v}||^2}\\textbf{v}$\n",
    "\n",
    "$= \\frac{8}{(\\sqrt{35})^2}(3,5,1)$\n",
    "\n",
    "$ = (\\frac{24}{35}, \\frac{40}{35}, \\frac{8}{35})$"
   ]
  },
  {
   "cell_type": "markdown",
   "id": "407ce604",
   "metadata": {},
   "source": [
    "#### m. Find $proj(\\textbf{u},\\textbf{w})$. <br>  "
   ]
  },
  {
   "cell_type": "markdown",
   "id": "67cd0703",
   "metadata": {},
   "source": [
    "$ = \\frac{\\textbf{u} \\cdot \\textbf{w}}{||\\textbf{w}||^2}\\textbf{w}$\n",
    "\n",
    "$ = \\frac{-12}{(\\sqrt{14})^2}(2,1,-3)$\n",
    "\n",
    "$ = (\\frac{-24}{14}, \\frac{-12}{14}, \\frac{36}{14})$"
   ]
  },
  {
   "cell_type": "markdown",
   "id": "9abe60ed",
   "metadata": {},
   "source": []
  },
  {
   "cell_type": "markdown",
   "id": "f8b3f07e",
   "metadata": {},
   "source": []
  },
  {
   "cell_type": "markdown",
   "id": "fc57385e",
   "metadata": {},
   "source": []
  },
  {
   "cell_type": "markdown",
   "id": "51ef1185",
   "metadata": {},
   "source": []
  },
  {
   "cell_type": "markdown",
   "id": "35323db7",
   "metadata": {},
   "source": []
  },
  {
   "cell_type": "markdown",
   "metadata": {},
   "source": []
  },
  {
   "cell_type": "markdown",
   "metadata": {},
   "source": []
  },
  {
   "cell_type": "markdown",
   "id": "7f413808",
   "metadata": {},
   "source": []
  },
  {
   "cell_type": "markdown",
   "id": "5984e84b",
   "metadata": {},
   "source": []
  },
  {
   "cell_type": "markdown",
   "id": "3caa6b48",
   "metadata": {},
   "source": []
  },
  {
   "cell_type": "markdown",
   "id": "311b03d5",
   "metadata": {},
   "source": []
  },
  {
   "cell_type": "markdown",
   "id": "8739ce1d",
   "metadata": {},
   "source": []
  }
 ],
 "metadata": {
  "kernelspec": {
   "display_name": "Python 3 (ipykernel)",
   "language": "python",
   "name": "python3"
  },
  "language_info": {
   "codemirror_mode": {
    "name": "ipython",
    "version": 3
   },
   "file_extension": ".py",
   "mimetype": "text/x-python",
   "name": "python",
   "nbconvert_exporter": "python",
   "pygments_lexer": "ipython3",
   "version": "3.11.5"
  }
 },
 "nbformat": 4,
 "nbformat_minor": 5
}
