{
 "cells": [
  {
   "cell_type": "markdown",
   "id": "67c69b26-d2c4-4794-9a0f-6349c29ae4e2",
   "metadata": {},
   "source": [
    "# Assignment\n",
    "---\n",
    "Instructions:<br>\n",
    "1. Create a folder in your github account titled Intro_Vectors.<br>\n",
    "2. Use Jupyterhub notebook to answer the problems.<br>\n",
    "3. Rename Jupyter notebook to Intro_Vectors.ipynb.<br>\n",
    "4. Show both manual and pythonic solutions.<br>\n",
    "5. For manual solutions write it in Latex format.<br>"
   ]
  },
  {
   "cell_type": "markdown",
   "id": "1d99f014",
   "metadata": {},
   "source": [
    "### 1. Let $\\textbf{u} = (1, -2, 4)$ and $\\textbf{v} = (3,5,1)$ $\\textbf{w} = (2,1,-3)$ find:<br>"
   ]
  },
  {
   "cell_type": "markdown",
   "id": "edbea518",
   "metadata": {},
   "source": [
    "#### a. $3\\textbf{u}-2\\textbf{v}$\n",
    "\n",
    "    "
   ]
  },
  {
   "cell_type": "markdown",
   "id": "fed03319",
   "metadata": {
    "slideshow": {
     "slide_type": "fragment"
    }
   },
   "source": [
    "$ = 3(1,-2,4) - 2(3,5,1)$\n",
    "\n",
    "$ = (3,-6,12) - (6,10,2)$\n",
    "\n",
    "$ = (-3,-16,10)$\n"
   ]
  },
  {
   "cell_type": "markdown",
   "id": "2370f047",
   "metadata": {},
   "source": [
    "#### b. $5\\textbf{u}+3\\textbf{v}-4\\textbf{w}$<br>"
   ]
  },
  {
   "cell_type": "markdown",
   "id": "8c87952c",
   "metadata": {},
   "source": [
    "$=5(1,-2,4) + 3(3,5,1) - 4(2,1,-3)$\n",
    "\n",
    "$= (5,-10,20) + (9,15,3) - (8,4,-12)$\n",
    "\n",
    "$= (6,1,35)$\n",
    "\n"
   ]
  },
  {
   "cell_type": "markdown",
   "id": "2550a032",
   "metadata": {},
   "source": [
    "#### c. $\\textbf{u} \\cdotp \\textbf{v}$,$\\textbf{v} \\cdotp \\textbf{w}$, $\\textbf{u} \\cdotp \\textbf{w}$<br>"
   ]
  },
  {
   "cell_type": "markdown",
   "id": "e45be809",
   "metadata": {},
   "source": [
    "$\\textbf{u} \\cdotp \\textbf{v}= 1(3) - 2(5) + 4(1) = -3$\n",
    "\n",
    "$\\textbf{v} \\cdotp \\textbf{w}= 3(2) + 5(1) + 1(-3) = 8$\n",
    "\n",
    "$\\textbf{u} \\cdotp \\textbf{w}= 1(2) - 2(1) + 4(-3) = -12$"
   ]
  },
  {
   "cell_type": "markdown",
   "id": "2d5bbe54",
   "metadata": {},
   "source": [
    "#### d. ||$\\textbf{u}||, ||\\textbf{v}||, ||\\textbf{w}$||<br>"
   ]
  },
  {
   "cell_type": "markdown",
   "id": "455ea8dd",
   "metadata": {},
   "source": [
    "$||\\textbf{u}||=\\sqrt{1^2 + (-2)^2 + 4^2} = \\sqrt{21}$\n",
    "\n",
    "$||\\textbf{v}||=\\sqrt{3^2 + 5^2 + 1^2} = \\sqrt{35}$\n",
    "\n",
    "$||\\textbf{w}||=\\sqrt{2^2 + 1^2 + (-3)^2} = \\sqrt{14}$"
   ]
  },
  {
   "cell_type": "markdown",
   "id": "6c4a1468",
   "metadata": {},
   "source": [
    "#### e. If $\\theta$ is the angle between $\\textbf{u}$  and   $\\textbf{v}$, find $\\cos{\\theta}$.<br>"
   ]
  },
  {
   "cell_type": "markdown",
   "id": "f7a56f1f",
   "metadata": {},
   "source": [
    "$cos\\theta = \\frac{u \\cdot v}{||u||||v||}$\n",
    "\n",
    "$= \\frac{1(3) - 2(5) + 4(1)}{\\sqrt{1^2 + (-2)^2 + 4^2}\\sqrt{3^2 + 5^2 + 1^2}}$\n",
    "\n",
    "$= \\frac{-3}{\\sqrt{21}\\sqrt{35}}$\n"
   ]
  },
  {
   "cell_type": "markdown",
   "id": "9a81c31c",
   "metadata": {},
   "source": [
    "#### f. If $\\alpha$ is the angle between $\\textbf{v}$  and   $\\textbf{w}$, find $\\cos{\\alpha}$.<br>"
   ]
  },
  {
   "cell_type": "markdown",
   "id": "58c9826b",
   "metadata": {},
   "source": [
    "$cos\\alpha = \\frac{v \\cdot w}{||v||||w||}$\n",
    "\n",
    "$= \\frac{3(2) + 5(1) + 1(-3)}{\\sqrt{1^2 + (-2)^2 + 4^2}\\sqrt{3^2 + 5^2 + 1^2}}$\n",
    "\n",
    "$= \\frac{8}{\\sqrt{35}\\sqrt{14}}$"
   ]
  },
  {
   "cell_type": "markdown",
   "id": "0572a085",
   "metadata": {},
   "source": [
    "#### g. If $\\beta$ is the angle between $\\textbf{u}$  and   $\\textbf{w}$, find $\\cos{\\beta}$.<br>"
   ]
  },
  {
   "cell_type": "markdown",
   "id": "fa68f917",
   "metadata": {},
   "source": [
    "$cos\\beta = \\frac{u \\cdot w}{||u||||w||}$\n",
    "    \n",
    "$= \\frac{1(2) - 2(1) + 4(-3)}{\\sqrt{1^2 + (-2)^2 + 4^2}\\sqrt{3^2 + 5^2 + 1^2}}$\n",
    "\n",
    "$= \\frac{-12}{\\sqrt{21}\\sqrt{14}}$"
   ]
  },
  {
   "cell_type": "markdown",
   "id": "03c4112b",
   "metadata": {},
   "source": [
    "#### h. Find $d(\\textbf{u},\\textbf{v})$.<br>"
   ]
  },
  {
   "cell_type": "markdown",
   "id": "26396758",
   "metadata": {},
   "source": [
    "$= ||\\textbf{u},\\textbf{v}||$\n",
    "\n",
    "$ = \\sqrt{(1-3)^2 + (-2-5)^2 + (4-1)^2}$\n",
    "\n",
    "$ = \\sqrt{4 + 49 + 9}$ \n",
    "\n",
    "$=\\sqrt{62}$"
   ]
  },
  {
   "cell_type": "markdown",
   "id": "339e675f",
   "metadata": {},
   "source": [
    "#### i. Find $d(\\textbf{w},\\textbf{v})$.<br>"
   ]
  },
  {
   "cell_type": "markdown",
   "id": "23a6b0fe",
   "metadata": {},
   "source": [
    "$ = \\sqrt{(2-3)^2 + (1-5)^2 + (-3-1)^2}$\n",
    "\n",
    "$ = \\sqrt{1 + 16 + 16}$ \n",
    "\n",
    "$ = \\sqrt{33}$"
   ]
  },
  {
   "cell_type": "markdown",
   "id": "d0503649",
   "metadata": {},
   "source": [
    "#### j. Find $d(\\textbf{u},\\textbf{w})$. <br>"
   ]
  },
  {
   "cell_type": "markdown",
   "id": "d573681e",
   "metadata": {},
   "source": [
    "$=\\sqrt{(1-2)^2 + (-2-1)^2 + (4-(-3))^2}$\n",
    "\n",
    "$= \\sqrt{1 + 9 + 49}$\n",
    "\n",
    "$ = \\sqrt{59}$"
   ]
  },
  {
   "cell_type": "markdown",
   "id": "40e5556c",
   "metadata": {},
   "source": [
    "#### k. Find $proj(\\textbf{u},\\textbf{v})$.<br>"
   ]
  },
  {
   "cell_type": "markdown",
   "id": "02770d4a",
   "metadata": {},
   "source": [
    "$= \\frac{\\textbf{u} \\cdot \\textbf{v}}{||\\textbf{v}||^2}\\textbf{v}$\n",
    "$= \\frac{-3}{(\\sqrt{35})^2}(3,5,1)$ \n",
    "$= (\\frac{-9}{35}), \\frac{-15}{(35)}, \\frac{-3}{35}$"
   ]
  },
  {
   "cell_type": "markdown",
   "id": "a64b6040",
   "metadata": {},
   "source": [
    "#### l. Find $proj(\\textbf{w},\\textbf{v})$.<br>"
   ]
  },
  {
   "cell_type": "markdown",
   "id": "4a9184fd",
   "metadata": {},
   "source": [
    "$= \\frac{\\textbf{w} \\cdot \\textbf{v}}{||\\textbf{v}||^2}\\textbf{v}$\n",
    "\n",
    "$= \\frac{8}{(\\sqrt{35})^2}(3,5,1)$\n",
    "\n",
    "$ = (\\frac{24}{35}, \\frac{40}{35}, \\frac{8}{35})$"
   ]
  },
  {
   "cell_type": "markdown",
   "id": "e62097b5",
   "metadata": {},
   "source": [
    "#### m. Find $proj(\\textbf{u},\\textbf{w})$. <br>  "
   ]
  },
  {
   "cell_type": "markdown",
   "id": "579d813a",
   "metadata": {},
   "source": [
    "$ = \\frac{\\textbf{u} \\cdot \\textbf{w}}{||\\textbf{w}||^2}\\textbf{w}$\n",
    "\n",
    "$ = \\frac{-12}{(\\sqrt{14})^2}(2,1,-3)$\n",
    "\n",
    "$ = (\\frac{-24}{14}, \\frac{-12}{14}, \\frac{36}{14})$"
   ]
  },
  {
   "cell_type": "markdown",
   "id": "54b8d3f3",
   "metadata": {},
   "source": [
    "### 2. Repeat problem 1 with the following column vectors:\n",
    "\n",
    "\\begin{align}\n",
    "    \\textbf{u} &= \\begin{bmatrix}\n",
    "           1 \\\\\n",
    "           3 \\\\\n",
    "           -4\n",
    "         \\end{bmatrix}, \\textbf{v} = \\begin{bmatrix}\n",
    "           2 \\\\\n",
    "           1 \\\\\n",
    "           5\n",
    "         \\end{bmatrix}, \\textbf{w} = \\begin{bmatrix}\n",
    "           3 \\\\\n",
    "           -2 \\\\\n",
    "           6\n",
    "         \\end{bmatrix}\n",
    "  \\end{align}\n"
   ]
  },
  {
   "cell_type": "markdown",
   "id": "82ca0df0",
   "metadata": {},
   "source": [
    "#### a. $3\\textbf{u}-2\\textbf{v}$\n",
    "\n",
    "    "
   ]
  },
  {
   "cell_type": "markdown",
   "id": "91a59b75",
   "metadata": {},
   "source": [
    "\\begin{align}\n",
    "    3 \\begin{bmatrix}\n",
    "          1 \\\\\n",
    "          3 \\\\\n",
    "          -4\n",
    "         \\end{bmatrix}\n",
    "  -\n",
    "    2 \\begin{bmatrix}\n",
    "           2 \\\\\n",
    "           1 \\\\\n",
    "           5\n",
    "         \\end{bmatrix}\n",
    "    = \\begin{bmatrix}\n",
    "           -1 \\\\\n",
    "           7 \\\\\n",
    "           -22\n",
    "         \\end{bmatrix}\n",
    "  \\end{align}\n"
   ]
  },
  {
   "cell_type": "markdown",
   "id": "0f66a4d1",
   "metadata": {},
   "source": [
    "#### b. $5\\textbf{u}+3\\textbf{v}-4\\textbf{w}$<br>"
   ]
  },
  {
   "cell_type": "markdown",
   "id": "7b9a2d52",
   "metadata": {},
   "source": [
    "\\begin{align}\n",
    "       5 \\begin{bmatrix}\n",
    "          1 \\\\\n",
    "          3 \\\\\n",
    "          -4\n",
    "         \\end{bmatrix}\n",
    "       +\n",
    "       3 \\begin{bmatrix}\n",
    "           2 \\\\\n",
    "           1 \\\\\n",
    "           5\n",
    "         \\end{bmatrix}\n",
    "       -\n",
    "       4 \\begin{bmatrix}\n",
    "           3 \\\\\n",
    "           -2 \\\\\n",
    "           6\n",
    "         \\end{bmatrix}\n",
    "    = \\begin{bmatrix}\n",
    "           -1 \\\\\n",
    "           26 \\\\\n",
    "           -29\n",
    "         \\end{bmatrix}\n",
    "  \\end{align}"
   ]
  },
  {
   "cell_type": "markdown",
   "id": "f01d1b7a",
   "metadata": {},
   "source": [
    "#### c. $\\textbf{u} \\cdotp \\textbf{v}$,$\\textbf{v} \\cdotp \\textbf{w}$, $\\textbf{u} \\cdotp \\textbf{w}$<br>"
   ]
  },
  {
   "cell_type": "markdown",
   "id": "e4f0e0c4",
   "metadata": {},
   "source": [
    "\n",
    "\n",
    "$\\textbf{u} \\cdotp \\textbf{v}= 1(2) + 3(1) -4(5) = -15$\n",
    "\n",
    "$\\textbf{v} \\cdotp \\textbf{w}= 2(3) + 1(-2) + 5(-6) = 34$\n",
    "\n",
    "$\\textbf{u} \\cdotp \\textbf{w}= 1(3) + 3(-2) - 4(-6) = -27$"
   ]
  },
  {
   "cell_type": "markdown",
   "id": "2714079f",
   "metadata": {},
   "source": [
    "#### d. ||$\\textbf{u}||, ||\\textbf{v}||, ||\\textbf{w}$||<br>"
   ]
  },
  {
   "cell_type": "markdown",
   "id": "449d9ebb",
   "metadata": {},
   "source": [
    "\n",
    "$||\\textbf{u}||=\\sqrt{1^2 + 3^2 + (-4)^2} = \\sqrt{26}$\n",
    "\n",
    "$||\\textbf{v}||=\\sqrt{2^2 + 1^2 + 5^2} = \\sqrt{35}$\n",
    "\n",
    "$||\\textbf{w}||=\\sqrt{3^2 + (-2)^2 + 6^2} = \\sqrt{49}$"
   ]
  },
  {
   "cell_type": "markdown",
   "id": "2066e8e2",
   "metadata": {},
   "source": [
    "#### e. If $\\theta$ is the angle between $\\textbf{u}$  and   $\\textbf{v}$, find $\\cos{\\theta}$.<br>"
   ]
  },
  {
   "cell_type": "markdown",
   "id": "8bd2ae0a",
   "metadata": {},
   "source": [
    "$cos\\theta = \\frac{u \\cdot v}{||u||||v||}$\n",
    "\n",
    "$= \\frac{1(2) + 3(1) -4(5)}{\\sqrt{1^2 + 3^2 + (-4)^2}\\sqrt{2^2 + 1^2 + 5^2}}$\n",
    "\n",
    "$= \\frac{-15}{\\sqrt{26}\\sqrt{30}}$\n"
   ]
  },
  {
   "cell_type": "markdown",
   "id": "8068c7a3",
   "metadata": {},
   "source": [
    "#### f. If $\\alpha$ is the angle between $\\textbf{v}$  and   $\\textbf{w}$, find $\\cos{\\alpha}$.<br>"
   ]
  },
  {
   "cell_type": "markdown",
   "id": "d808ab05",
   "metadata": {},
   "source": [
    "$cos\\alpha = \\frac{v \\cdot w}{||v||||w||}$\n",
    "\n",
    "$= \\frac{2(3) + 1(-2) + 5(6)}{\\sqrt{2^2 + 1^2 + 5^2}\\sqrt{3^2 + (-2)^2 + 6^2}}$\n",
    "\n",
    "$= \\frac{34}{\\sqrt{30}\\sqrt{49}}$"
   ]
  },
  {
   "cell_type": "markdown",
   "id": "f1dc1948",
   "metadata": {},
   "source": [
    "#### g. If $\\beta$ is the angle between $\\textbf{u}$  and   $\\textbf{w}$, find $\\cos{\\beta}$.<br>"
   ]
  },
  {
   "cell_type": "markdown",
   "id": "408bad58",
   "metadata": {},
   "source": [
    "$cos\\beta = \\frac{u \\cdot w}{||u||||w||}$\n",
    "    \n",
    "$= \\frac{1(3) + 3(-2) -4 (6)}{\\sqrt{1^2 + 3^2 + (-4^2)}\\sqrt{3^2 + (-2)^2 + 6^2}}$\n",
    "\n",
    "$= \\frac{-27}{{7}\\sqrt{26}}$"
   ]
  },
  {
   "cell_type": "markdown",
   "id": "0f1fadf8",
   "metadata": {},
   "source": [
    "#### h. Find $d(\\textbf{u},\\textbf{v})$.<br>"
   ]
  },
  {
   "cell_type": "markdown",
   "id": "b580f67b",
   "metadata": {},
   "source": [
    "$= ||\\textbf{u},\\textbf{v}||$\n",
    "\n",
    "$ = \\sqrt{(1-2)^2 + (3-1)^2 + (-4-5)^2}$\n",
    "\n",
    "$ = \\sqrt{1 + 4 + 81}$\n",
    "\n",
    "$ = \\sqrt{86}$"
   ]
  },
  {
   "cell_type": "markdown",
   "id": "eae8362f",
   "metadata": {},
   "source": [
    "#### i. Find $d(\\textbf{w},\\textbf{v})$.<br>"
   ]
  },
  {
   "cell_type": "markdown",
   "id": "dc7470e6",
   "metadata": {},
   "source": [
    "$ = \\sqrt{(2-3)^2 + (1-(-2))^2 + (5-6)^2}$\n",
    "\n",
    "$ = \\sqrt{1 + 9 + 1}$ \n",
    "\n",
    "$ = \\sqrt{11}$"
   ]
  },
  {
   "cell_type": "markdown",
   "id": "f048e35d",
   "metadata": {},
   "source": [
    "#### j. Find $d(\\textbf{u},\\textbf{w})$. <br>"
   ]
  },
  {
   "cell_type": "markdown",
   "id": "684408fb",
   "metadata": {},
   "source": [
    "$=\\sqrt{(1-3)^2 + (3-(-2))^2 + (-4-6)^2}$\n",
    "\n",
    "$= \\sqrt{4 + 25 + 100}$\n",
    "\n",
    "$ = \\sqrt{129}$"
   ]
  },
  {
   "cell_type": "markdown",
   "id": "652af95e",
   "metadata": {},
   "source": [
    "#### k. Find $proj(\\textbf{u},\\textbf{v})$.<br>"
   ]
  },
  {
   "cell_type": "markdown",
   "id": "fb4897eb",
   "metadata": {},
   "source": [
    "$= \\frac{\\textbf{u} \\cdot \\textbf{v}}{||\\textbf{v}||^2}\\textbf{v}$\n",
    "\n",
    "$= \\frac{-15}{(\\sqrt{30})^2}(2,1,5)$ \n",
    "\n",
    "$= -1, \\frac{-1}{2}, -2\\frac{1}{2}$"
   ]
  },
  {
   "cell_type": "markdown",
   "id": "0d123682",
   "metadata": {},
   "source": [
    "#### l. Find $proj(\\textbf{w},\\textbf{v})$.<br>"
   ]
  },
  {
   "cell_type": "markdown",
   "id": "3562d4f4",
   "metadata": {},
   "source": [
    "$= \\frac{\\textbf{w} \\cdot \\textbf{v}}{||\\textbf{v}||^2}\\textbf{v}$\n",
    "\n",
    "$= \\frac{34}{(\\sqrt{30})^2}(2,1,5)$\n",
    "\n",
    "$ = (\\frac{68}{40}, \\frac{34}{30}, 5\\frac{20}{30})$"
   ]
  },
  {
   "cell_type": "markdown",
   "id": "407ce604",
   "metadata": {},
   "source": [
    "#### m. Find $proj(\\textbf{u},\\textbf{w})$. <br>  "
   ]
  },
  {
   "cell_type": "markdown",
   "id": "67cd0703",
   "metadata": {},
   "source": [
    "$ = \\frac{\\textbf{u} \\cdot \\textbf{w}}{||\\textbf{w}||^2}\\textbf{w}$\n",
    "\n",
    "$ = \\frac{-27}{(\\sqrt{49})^2}(3,-2,6)$\n",
    "\n",
    "$ = (\\frac{-81}{49}, \\frac{54}{49}, \\frac{-162}{49})$"
   ]
  },
  {
   "cell_type": "markdown",
   "id": "9abe60ed",
   "metadata": {},
   "source": [
    "### 3. Let $\\textbf{u} = (2,-5,4,6,-3)$, $\\textbf{v} = (5,-2,1,-7,-4)$, and $\\textbf{w} = (2,1,-3)$ find:<br>"
   ]
  },
  {
   "cell_type": "markdown",
   "id": "f8b3f07e",
   "metadata": {},
   "source": [
    "\n",
    "#### a. $4\\textbf{u}-3\\textbf{v}$"
   ]
  },
  {
   "cell_type": "markdown",
   "id": "5f5ead2b",
   "metadata": {},
   "source": [
    "$= 4(2,-5,4, 6, -3) - 3(5,-2,1, -7, -4)$\n",
    "\n",
    "$= (8,-20,16,24,-12) - (15,-6,3,-21,-12) $ \n",
    "\n",
    "$= (-7,-35,13,45,0)  $"
   ]
  },
  {
   "cell_type": "markdown",
   "id": "340545d7",
   "metadata": {},
   "source": [
    "#### b. $5\\textbf{u}+2\\textbf{v}-2\\textbf{w}$"
   ]
  },
  {
   "cell_type": "markdown",
   "id": "a2c878b4",
   "metadata": {},
   "source": [
    "$= 5(2,-5,4, 6, -3) + 2(5,-2,1, -7, -4) - 2(2,1,-3) $\n",
    "\n",
    "$= (10,-25,20,30,-15) + (10,-4,2,-14,-8) - (4,2,-6) $\n",
    "\n",
    "$= [16,-31,,28,16,-23] $"
   ]
  },
  {
   "cell_type": "markdown",
   "id": "7ac2c0e7",
   "metadata": {},
   "source": [
    "#### c. $\\textbf{u} \\cdotp \\textbf{v}$,$\\textbf{v} \\cdotp \\textbf{w}$, $\\textbf{u} \\cdotp \\textbf{w}$"
   ]
  },
  {
   "cell_type": "markdown",
   "id": "4d35842a",
   "metadata": {},
   "source": [
    "$u  \\cdot  v = 2(5) + (-5)(-2) + 4(1) + 6(-7) + (-3)(-4) = -6 $\n",
    "\n",
    "$v.w = (5)(2) + (-2)(1) + (1)(-3) + (-7)(0) + (-4)(0) = 5 $\n",
    "\n",
    "$u.w = (2)(2) + (-5)(1) + (4)(-3) + (6)(0) + (-3)(0)= -13 $"
   ]
  },
  {
   "cell_type": "markdown",
   "id": "51ef1185",
   "metadata": {},
   "source": [
    "\n",
    "#### d. ||$\\textbf{u}$||, ||$\\textbf{v}$||, ||$"
   ]
  },
  {
   "cell_type": "markdown",
   "id": "31dfd55b",
   "metadata": {},
   "source": [
    "$||u|| = \\sqrt{2^2 + (-5)^2 + 4^2 + 6^2 + (-3)^2} = \\sqrt{90}$ \n",
    "\n",
    "$||v|| = \\sqrt{5^2 + (-2)^2 + 1^2 + (-7)^2 (-4)^2} = \\sqrt{95}$ \n",
    "\n",
    "$||w|| = \\sqrt{2^2 + 1^2 + (-3)^2}= \\sqrt{14}$"
   ]
  },
  {
   "cell_type": "markdown",
   "id": "35323db7",
   "metadata": {},
   "source": [
    "#### e. If $\\theta$ is the angle between $\\textbf{u}$  and   $\\textbf{v}$, find $\\cos{\\theta}$."
   ]
  },
  {
   "cell_type": "markdown",
   "id": "1767cfbb",
   "metadata": {},
   "source": [
    "$= \\frac{2(5)+(-5)(-2)+4(6)+6(-7)+(-3)(-4)}{\\sqrt{2^2+(-5)^2+4^2+6^2+(-3)^2}\\sqrt{5^2+(-2)^2+1^2+(-7)^2(-4)^2}}$\n",
    "\n",
    "$= \\frac{-6}{\\sqrt{90}\\sqrt{95}}$"
   ]
  },
  {
   "cell_type": "markdown",
   "metadata": {},
   "source": [
    "#### f. If $\\alpha$ is the angle between $\\textbf{v}$  and   $\\textbf{w}$, find $\\cos{\\alpha}$."
   ]
  },
  {
   "cell_type": "markdown",
   "id": "0db64e98",
   "metadata": {},
   "source": [
    "$\\frac{\\textbf{v} \\cdotp \\textbf{w}}{||\\textbf{v}||\\||\\textbf{w}||}$\n",
    "\n",
    "$= \\frac{5}{/\\sqrt{95}\\sqrt{14}}$"
   ]
  },
  {
   "cell_type": "markdown",
   "metadata": {},
   "source": [
    "#### g. If $\\beta$ is the angle between $\\textbf{u}$  and   $\\textbf{w}$, find $\\cos{\\beta}$."
   ]
  },
  {
   "cell_type": "markdown",
   "id": "2fa7666d",
   "metadata": {},
   "source": [
    "$\\frac{\\textbf{u} \\cdotp \\textbf{w}}{||\\textbf{u}||||\\textbf{w}||}$\n",
    "\n",
    "$= \\frac{-13}{/\\sqrt{90}\\sqrt{14}}$"
   ]
  },
  {
   "cell_type": "markdown",
   "id": "7f413808",
   "metadata": {},
   "source": [
    "#### h. Find $d(\\textbf{u},\\textbf{v})$."
   ]
  },
  {
   "cell_type": "markdown",
   "id": "69c4ac01",
   "metadata": {},
   "source": [
    "$ = \\sqrt{(2-5)^2 + (-5+2)^2 + (4-1)^2 + (6+7)^2 + (-3 + 4)^2}$\n",
    "\n",
    "$ =\\sqrt{(-3) + (-3) + 3 + 13 + 1} =\\sqrt{197}$"
   ]
  },
  {
   "cell_type": "markdown",
   "id": "5984e84b",
   "metadata": {},
   "source": [
    "#### i. Find $d(\\textbf{w},\\textbf{v})$.\n",
    "$= ||w-v||$\n",
    "\n",
    "$= \\sqrt{(2-5)^2+(1+2)^2+(-3-1)^2+(0+7)^2+(0+4)^2}$ \n",
    "\n",
    "$= \\sqrt{(-3)^2+(3)^2+(-4)^2+7^2+4^2}$ \n",
    "\n",
    "$= \\sqrt{9 + 9 + 16 + 49 + 16}$ \n",
    "\n",
    "$= \\sqrt{99}$"
   ]
  },
  {
   "cell_type": "markdown",
   "id": "3caa6b48",
   "metadata": {},
   "source": [
    "#### j. Find $d(\\textbf{u},\\textbf{w})$."
   ]
  },
  {
   "cell_type": "markdown",
   "id": "02f38933",
   "metadata": {},
   "source": [
    "$= ||u - w||$ \n",
    "\n",
    "$= \\sqrt{(2-2)^2+ (-5-1)^2 + (4+3)^2 +(6-0)^2 + (-3-0)^2}$ \n",
    "\n",
    "$= \\sqrt{(0)^2+ (-6)^2 +(7)^2 + 6^2 +(-3)^2}$ \n",
    "\n",
    "$= \\sqrt{0+36 +49+36 +9}$ \n",
    "\n",
    "$= \\sqrt{130}$"
   ]
  },
  {
   "cell_type": "markdown",
   "id": "311b03d5",
   "metadata": {},
   "source": [
    "#### k. Find $proj(\\textbf{u},\\textbf{v})$."
   ]
  },
  {
   "cell_type": "markdown",
   "id": "c012bea4",
   "metadata": {},
   "source": [
    "$ = \\frac{u \\cdot v}{||v||^2}v$\n",
    "\n",
    "$ =\\frac{-6}{(\\sqrt{95})^2}(5,-2,1, -7, -4)$\n",
    "\n",
    "$ = \\frac{-30}{95}, \\frac{12}{95}, \\frac{-6}{95}, \\frac{42}{95}, \\frac{24}{95}$"
   ]
  },
  {
   "cell_type": "markdown",
   "id": "8739ce1d",
   "metadata": {},
   "source": [
    "#### l. Find $proj(\\textbf{w},\\textbf{v})$."
   ]
  },
  {
   "cell_type": "markdown",
   "id": "ac552c04",
   "metadata": {},
   "source": [
    "$\\frac{w.v}{||v||^2} v $ \n",
    "\n",
    "$\\frac{5}{95}(5,-2,1,-7,-4) $\n",
    "\n",
    "$(\\frac{25}{95}, \\frac{-10}{95}, \\frac{5}{95}, \\frac{-35}{95}, \\frac{-20}{95})$"
   ]
  },
  {
   "cell_type": "markdown",
   "id": "4e8747c9",
   "metadata": {},
   "source": [
    "#### m. Find $proj(\\textbf{u},\\textbf{w})$."
   ]
  },
  {
   "cell_type": "markdown",
   "id": "1ffd83c8",
   "metadata": {},
   "source": [
    "$\\frac{u.w}{||w||^2} w $\n",
    "\n",
    "$\\frac{-13}{14}(2,1,-3) $\n",
    "\n",
    "$(\\frac{-26}{14}, \\frac{-13}{14}, \\frac{39}{14})$"
   ]
  },
  {
   "cell_type": "markdown",
   "id": "222fbdbd",
   "metadata": {},
   "source": [
    "### 4. Normalize each vector:<br>"
   ]
  },
  {
   "cell_type": "markdown",
   "id": "a8425851",
   "metadata": {},
   "source": [
    "#### a. $\\textbf{u}$ = (5,-7)."
   ]
  },
  {
   "cell_type": "markdown",
   "id": "e4e769c2",
   "metadata": {},
   "source": [
    "$||u|| = \\sqrt{u \\cdot u} = \\sqrt{5(5) + (-7)^2} = \\sqrt{25 + 49} = \\sqrt{74}$\n",
    "\n",
    "$\\textbf{u'} = \\frac{u}{||u||} = (\\frac{5}{\\sqrt{74}}, \\frac{-7}{\\sqrt{74}}) $"
   ]
  },
  {
   "cell_type": "markdown",
   "id": "fc9aac55",
   "metadata": {},
   "source": [
    "#### b. $\\textbf{v}$ = (1,2,-2,4)."
   ]
  },
  {
   "cell_type": "markdown",
   "id": "0ab0a45b",
   "metadata": {},
   "source": [
    "$||v|| = \\sqrt{1(1) + (2)^2 + (-2)^2 + 4(4)} = \\sqrt{1 + 4 + 2 + 16} = \\sqrt{23}$\n",
    "\n",
    "$\\textbf{v'} = \\frac{v}{||v||} = (\\frac{1}{\\sqrt{23}}, \\frac{2}{\\sqrt{23}}, \\frac{-2}{\\sqrt{23}}, \\frac{4}{\\sqrt{23}}) $"
   ]
  },
  {
   "cell_type": "markdown",
   "id": "73e9e901",
   "metadata": {},
   "source": [
    "#### c. $\\textbf{w} = (\\frac{1}{2},\\frac{-1}{3},\\frac{3}{4})$."
   ]
  },
  {
   "cell_type": "markdown",
   "id": "35ef3b9a",
   "metadata": {},
   "source": [
    "$||w|| = \\sqrt{w \\cdot w} = \\sqrt{(\\frac{1}{2})^2 + (\\frac{-1}{3})^2 + (\\frac{3}{5})^2} = \\sqrt{\\frac{1}{4} + \\frac{1}{9}^2 + \\frac{9}{25}}$\n",
    "\n",
    "$\\textbf{w'} = \\frac{w}{||w||} = (\\frac{30}{2\\sqrt{649}}, \\frac{-30}{3\\sqrt{649}}, \\frac{90}{5\\sqrt{649}}) $"
   ]
  },
  {
   "cell_type": "markdown",
   "id": "8dd1cb18",
   "metadata": {},
   "source": [
    "### 5. Let $\\textbf{u} = (1,2,-2)$,$\\textbf{v} = (3,-12,4)$ and a scalar $k = -3$: "
   ]
  },
  {
   "cell_type": "markdown",
   "id": "e37b2534",
   "metadata": {},
   "source": [
    "#### Find $||u||, ||v||, ||u+v||, ||ku||$."
   ]
  },
  {
   "cell_type": "markdown",
   "id": "91fcfa4d",
   "metadata": {},
   "source": [
    "$ ||u|| = \\sqrt{u \\cdot u} $\n",
    "\n",
    "$= \\sqrt{1^2 + 2^2 + (-2)^2} $\n",
    "\n",
    "$= \\sqrt{1 + 4 + 4} = \\sqrt{9} = 3$\n",
    "\n",
    "\n",
    "\n",
    "\n"
   ]
  },
  {
   "cell_type": "markdown",
   "id": "4f3c8f2e",
   "metadata": {},
   "source": [
    "$||v|| = \\sqrt{v \\cdot v} $\n",
    "\n",
    "$= \\sqrt{3^2 + (-12)^2 + 4^2} $\n",
    "\n",
    "$= \\sqrt{9 + 144 + 16} = \\sqrt{169} = 13 $"
   ]
  },
  {
   "cell_type": "markdown",
   "id": "9873f157",
   "metadata": {},
   "source": [
    "$||u+v|| = \\sqrt{(u+v)^2} $\n",
    "\n",
    "$= \\sqrt{(1+3)^2 + (2+(-12))^2 + (-2+4)^2} $\n",
    "\n",
    "$= \\sqrt{16 + 100 + 4} = \\sqrt{120} $\n",
    "\n"
   ]
  },
  {
   "cell_type": "markdown",
   "id": "32405905",
   "metadata": {},
   "source": [
    "$||ku|| = \\sqrt{(k \\cdot u)^2} $\n",
    "\n",
    "$= \\sqrt{(1(-3))^2 + (2(-3))^2 + (-2(-3))^2} $\n",
    "\n",
    "$= \\sqrt{9 + 36 + 36} = \\sqrt{81} = 9 $"
   ]
  },
  {
   "cell_type": "markdown",
   "id": "6869b26b",
   "metadata": {},
   "source": [
    "### 6. Find k so that $\\textbf{u}  \\ and \\  \\textbf{v}$ are orthogonal."
   ]
  },
  {
   "cell_type": "markdown",
   "id": "bfe8808d",
   "metadata": {},
   "source": [
    "#### a. $\\textbf{u} = (3, k, -2), \\textbf{v} = (6, -4, -3)$."
   ]
  },
  {
   "cell_type": "markdown",
   "id": "c117d2a5",
   "metadata": {},
   "source": [
    "$= 3(6) -4k + (-2)(-3)$ \n",
    "\n",
    "$= 18 - 4k + 6$\n",
    "\n",
    "$4k = 24 $\n",
    "\n",
    "$\\frac{4k}{4} = \\frac{24}{4} $\n",
    "\n",
    "$ k = 6 $"
   ]
  },
  {
   "cell_type": "markdown",
   "id": "dd883dd5",
   "metadata": {},
   "source": [
    "#### b. $\\textbf{u} = (5,k,-4,2), \\textbf{v} = (1,-3,2,2k)$."
   ]
  },
  {
   "cell_type": "markdown",
   "id": "ee60ca65",
   "metadata": {},
   "source": [
    "$= 5(1) + k(-3) + (-4)2 +2(2k)\n",
    "$= 5 - 3k - 8 + 4k$\n",
    "\n",
    "$ = k - 3 $ \n",
    "\n",
    "$k = 3$"
   ]
  },
  {
   "cell_type": "markdown",
   "id": "b907847a",
   "metadata": {},
   "source": [
    "c. $\\textbf{u} = (1,7,k+2,-2), \\textbf{v} = (3, k, -3,k)$."
   ]
  },
  {
   "cell_type": "markdown",
   "id": "dc251ab7",
   "metadata": {},
   "source": [
    "$= 1(3) + 7(k) + (k+2)(-3) + (-2)(k) \n",
    "\n",
    "$= 3 + 7k -3k - 6 - 2k $\n",
    "\n",
    "$= 2k - 3 $\n",
    "\n",
    "$ k = \\frac{3}{2}$"
   ]
  }
 ],
 "metadata": {
  "kernelspec": {
   "display_name": "Python 3 (ipykernel)",
   "language": "python",
   "name": "python3"
  },
  "language_info": {
   "codemirror_mode": {
    "name": "ipython",
    "version": 3
   },
   "file_extension": ".py",
   "mimetype": "text/x-python",
   "name": "python",
   "nbconvert_exporter": "python",
   "pygments_lexer": "ipython3",
   "version": "3.11.5"
  }
 },
 "nbformat": 4,
 "nbformat_minor": 5
}
